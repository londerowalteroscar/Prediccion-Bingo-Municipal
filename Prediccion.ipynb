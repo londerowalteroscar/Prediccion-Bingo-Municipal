{
 "cells": [
  {
   "cell_type": "markdown",
   "id": "b64b33af",
   "metadata": {},
   "source": [
    "# Librerias"
   ]
  },
  {
   "cell_type": "code",
   "execution_count": 33,
   "id": "aa42846d",
   "metadata": {},
   "outputs": [],
   "source": [
    "# 📦 Importación de librerías necesarias\n",
    "import pandas as pd\n",
    "import matplotlib.pyplot as plt"
   ]
  },
  {
   "cell_type": "markdown",
   "id": "fd940638",
   "metadata": {},
   "source": [
    "# Carga del archivo"
   ]
  },
  {
   "cell_type": "code",
   "execution_count": 34,
   "id": "5aa1eee3",
   "metadata": {},
   "outputs": [
    {
     "name": "stdout",
     "output_type": "stream",
     "text": [
      "✅ Archivo cargado correctamente.\n",
      "\n",
      "🔍 Primeras filas del archivo:\n",
      "       Fecha  Posicion  Numero\n",
      "0 2025-07-21         1      25\n",
      "1 2025-07-21         2       5\n",
      "2 2025-07-21         3      88\n",
      "3 2025-07-21         4      91\n",
      "4 2025-07-21         5      76\n"
     ]
    }
   ],
   "source": [
    "# 📁 1. Cargar el archivo Excel\n",
    "ruta_archivo = 'data/tombola.xlsx'\n",
    "try:\n",
    "    df = pd.read_excel(ruta_archivo)\n",
    "    print(\"✅ Archivo cargado correctamente.\")\n",
    "except FileNotFoundError:\n",
    "    print(\"❌ Error: El archivo 'tombola.xlsx' no se encontró en la carpeta 'data'.\")\n",
    "    exit()\n",
    "\n",
    "# 👁 2. Vista previa del DataFrame\n",
    "print(\"\\n🔍 Primeras filas del archivo:\")\n",
    "print(df.head())"
   ]
  },
  {
   "cell_type": "markdown",
   "id": "9c5a27dd",
   "metadata": {},
   "source": [
    "### 🔹 Nivel 1 - Estadística Básica\n",
    "\n",
    "#### ✅ Análisis de Frecuencia\n"
   ]
  },
  {
   "cell_type": "markdown",
   "id": "bf1f4b6f",
   "metadata": {},
   "source": [
    "**Descripción**: Contar cuántas veces apareció cada número y seleccionar los 10 más frecuentes.\n"
   ]
  },
  {
   "cell_type": "code",
   "execution_count": 35,
   "id": "81989791",
   "metadata": {},
   "outputs": [
    {
     "name": "stdout",
     "output_type": "stream",
     "text": [
      "[40, 28, 17, 81, 37, 5, 25, 79, 2, 29]\n"
     ]
    }
   ],
   "source": [
    "# Ejecutar el script desde Scripts\n",
    "!python Scripts/analisis_frecuencia_tombola.py"
   ]
  },
  {
   "cell_type": "markdown",
   "id": "c585edf2",
   "metadata": {},
   "source": [
    "### 🔹 Nivel 2 - Modelos Intermedios con ML\n",
    "\n",
    "#### 1. Clasificación Binaria (Random Forest / XGBoost / LightGBM)\n",
    "\n",
    "**Descripción**: Crear un dataset donde por cada día indiques si un número apareció (1) o no (0), y uses features como día de la semana, frecuencia pasada, etc."
   ]
  },
  {
   "cell_type": "markdown",
   "id": "837ff9e3",
   "metadata": {},
   "source": [
    "#### Random Forest:"
   ]
  },
  {
   "cell_type": "code",
   "execution_count": 36,
   "id": "c8b9ecb9",
   "metadata": {},
   "outputs": [
    {
     "name": "stdout",
     "output_type": "stream",
     "text": [
      "✅ Archivo cargado correctamente.\n",
      "\n",
      "📋 Reporte de Clasificación:\n",
      "              precision    recall  f1-score   support\n",
      "\n",
      "           0       0.91      0.96      0.93       236\n",
      "           1       0.17      0.08      0.11        24\n",
      "\n",
      "    accuracy                           0.88       260\n",
      "   macro avg       0.54      0.52      0.52       260\n",
      "weighted avg       0.84      0.88      0.86       260\n",
      "\n",
      "🎯 Precisión general: 87.69 %\n",
      "\n",
      "📈 Importancia de las features:\n",
      "- numero: 83.19%\n",
      "- dia_semana: 11.12%\n",
      "- frecuencia_pasada: 5.69%\n",
      "\n",
      "🔟 Números con mayor probabilidad de salir en el próximo sorteo:\n",
      "[12, 86, 97, 39, 41, 54, 45, 29, 7, 81]\n"
     ]
    }
   ],
   "source": [
    "!python Scripts/modelo_rf_binario_tombola.py"
   ]
  },
  {
   "cell_type": "markdown",
   "id": "57036e80",
   "metadata": {},
   "source": [
    "#### XGBoost:"
   ]
  },
  {
   "cell_type": "code",
   "execution_count": 37,
   "id": "cd38d079",
   "metadata": {},
   "outputs": [
    {
     "name": "stdout",
     "output_type": "stream",
     "text": [
      "✅ Archivo cargado correctamente.\n",
      "\n",
      "📋 Reporte de Clasificación:\n",
      "              precision    recall  f1-score   support\n",
      "\n",
      "           0       0.91      0.99      0.95       236\n",
      "           1       0.00      0.00      0.00        24\n",
      "\n",
      "    accuracy                           0.90       260\n",
      "   macro avg       0.45      0.49      0.47       260\n",
      "weighted avg       0.82      0.90      0.86       260\n",
      "\n",
      "🎯 Precisión general: 89.62 %\n",
      "\n",
      "📈 Importancia de las features:\n",
      "- numero: 31.450000762939453%\n",
      "- dia_semana: 34.790000915527344%\n",
      "- frecuencia_pasada: 33.77000045776367%\n",
      "\n",
      "🔟 Números con mayor probabilidad de salir en el próximo sorteo:\n",
      "[34, 39, 41, 6, 97, 11, 7, 44, 12, 43]\n"
     ]
    },
    {
     "name": "stderr",
     "output_type": "stream",
     "text": [
      "c:\\Users\\londe\\OneDrive\\Programacion\\6 - Otros\\Prediccion-Bingo-Municipal\\venv\\Lib\\site-packages\\xgboost\\training.py:183: UserWarning: [20:18:22] WARNING: C:\\actions-runner\\_work\\xgboost\\xgboost\\src\\learner.cc:738: \n",
      "Parameters: { \"use_label_encoder\" } are not used.\n",
      "\n",
      "  bst.update(dtrain, iteration=i, fobj=obj)\n"
     ]
    }
   ],
   "source": [
    "!python Scripts/modelo_xgb_binario_tombola.py"
   ]
  },
  {
   "cell_type": "markdown",
   "id": "658b175c",
   "metadata": {},
   "source": [
    "#### LightGBM:"
   ]
  },
  {
   "cell_type": "code",
   "execution_count": 38,
   "id": "545e2716",
   "metadata": {},
   "outputs": [
    {
     "name": "stdout",
     "output_type": "stream",
     "text": [
      "✅ Archivo cargado correctamente.\n",
      "[LightGBM] [Info] Number of positive: 99, number of negative: 941\n",
      "[LightGBM] [Info] Auto-choosing col-wise multi-threading, the overhead of testing was 0.000116 seconds.\n",
      "You can set `force_col_wise=true` to remove the overhead.\n",
      "[LightGBM] [Info] Total Bins 111\n",
      "[LightGBM] [Info] Number of data points in the train set: 1040, number of used features: 3\n",
      "[LightGBM] [Info] [binary:BoostFromScore]: pavg=0.095192 -> initscore=-2.251823\n",
      "[LightGBM] [Info] Start training from score -2.251823\n",
      "\n",
      "📋 Reporte de Clasificación:\n",
      "              precision    recall  f1-score   support\n",
      "\n",
      "           0       0.91      0.98      0.94       236\n",
      "           1       0.29      0.08      0.13        24\n",
      "\n",
      "    accuracy                           0.90       260\n",
      "   macro avg       0.60      0.53      0.54       260\n",
      "weighted avg       0.86      0.90      0.87       260\n",
      "\n",
      "🎯 Precisión general: 89.62 %\n",
      "\n",
      "📈 Importancia de las features:\n",
      "- numero: 72.03%\n",
      "- dia_semana: 19.63%\n",
      "- frecuencia_pasada: 8.33%\n",
      "\n",
      "🔟 Números con mayor probabilidad de salir en el próximo sorteo:\n",
      "[34, 44, 39, 11, 41, 97, 6, 45, 12, 63]\n"
     ]
    }
   ],
   "source": [
    "!python Scripts/modelo_lgb_binario_tombola.py"
   ]
  },
  {
   "cell_type": "markdown",
   "id": "0917336c",
   "metadata": {},
   "source": [
    "### 2. Modelos de Series Temporales (Prophet / ARIMA)\n",
    "\n",
    "**Descripción**: Tratar cada número (del 00 al 99) como una serie temporal binaria (1 si apareció, 0 si no) y modelar su aparición en el tiempo."
   ]
  },
  {
   "cell_type": "markdown",
   "id": "45e31847",
   "metadata": {},
   "source": [
    "#### Prophet:"
   ]
  },
  {
   "cell_type": "code",
   "execution_count": 39,
   "id": "1cb0643c",
   "metadata": {},
   "outputs": [
    {
     "name": "stdout",
     "output_type": "stream",
     "text": [
      "📅 Predicción de aparición para los próximos días con Prophet:\n",
      "[10, 17, 25, 28, 29, 32, 37, 55, 76]\n"
     ]
    },
    {
     "name": "stderr",
     "output_type": "stream",
     "text": [
      "Importing plotly failed. Interactive plots will not work.\n",
      "20:18:27 - cmdstanpy - INFO - Chain [1] start processing\n",
      "20:18:27 - cmdstanpy - INFO - Chain [1] done processing\n",
      "20:18:27 - cmdstanpy - INFO - Chain [1] start processing\n",
      "20:18:27 - cmdstanpy - INFO - Chain [1] done processing\n",
      "20:18:27 - cmdstanpy - INFO - Chain [1] start processing\n",
      "20:18:27 - cmdstanpy - INFO - Chain [1] done processing\n",
      "20:18:27 - cmdstanpy - INFO - Chain [1] start processing\n",
      "20:18:27 - cmdstanpy - INFO - Chain [1] done processing\n",
      "20:18:27 - cmdstanpy - INFO - Chain [1] start processing\n",
      "20:18:27 - cmdstanpy - INFO - Chain [1] done processing\n",
      "20:18:27 - cmdstanpy - INFO - Chain [1] start processing\n",
      "20:18:28 - cmdstanpy - INFO - Chain [1] done processing\n",
      "20:18:28 - cmdstanpy - INFO - Chain [1] start processing\n",
      "20:18:28 - cmdstanpy - INFO - Chain [1] done processing\n",
      "20:18:28 - cmdstanpy - INFO - Chain [1] start processing\n",
      "20:18:28 - cmdstanpy - INFO - Chain [1] done processing\n",
      "20:18:28 - cmdstanpy - INFO - Chain [1] start processing\n",
      "20:18:28 - cmdstanpy - INFO - Chain [1] done processing\n",
      "20:18:28 - cmdstanpy - INFO - Chain [1] start processing\n",
      "20:18:28 - cmdstanpy - INFO - Chain [1] done processing\n",
      "20:18:28 - cmdstanpy - INFO - Chain [1] start processing\n",
      "20:18:28 - cmdstanpy - INFO - Chain [1] done processing\n",
      "20:18:28 - cmdstanpy - INFO - Chain [1] start processing\n",
      "20:18:28 - cmdstanpy - INFO - Chain [1] done processing\n",
      "20:18:28 - cmdstanpy - INFO - Chain [1] start processing\n",
      "20:18:28 - cmdstanpy - INFO - Chain [1] done processing\n",
      "20:18:29 - cmdstanpy - INFO - Chain [1] start processing\n",
      "20:18:29 - cmdstanpy - INFO - Chain [1] done processing\n",
      "20:18:29 - cmdstanpy - INFO - Chain [1] start processing\n",
      "20:18:29 - cmdstanpy - INFO - Chain [1] done processing\n"
     ]
    }
   ],
   "source": [
    "!python Scripts/modelo_prophet_tombola.py"
   ]
  },
  {
   "cell_type": "markdown",
   "id": "31a48703",
   "metadata": {},
   "source": [
    "#### ARIMA:"
   ]
  },
  {
   "cell_type": "code",
   "execution_count": 40,
   "id": "e37fdf99",
   "metadata": {},
   "outputs": [
    {
     "name": "stdout",
     "output_type": "stream",
     "text": [
      "📊 Predicción de aparición para los próximos días con ARIMA:\n",
      "[]\n"
     ]
    }
   ],
   "source": [
    "!python Scripts/modelo_arima_binario_tombola.py"
   ]
  }
 ],
 "metadata": {
  "kernelspec": {
   "display_name": "venv",
   "language": "python",
   "name": "python3"
  },
  "language_info": {
   "codemirror_mode": {
    "name": "ipython",
    "version": 3
   },
   "file_extension": ".py",
   "mimetype": "text/x-python",
   "name": "python",
   "nbconvert_exporter": "python",
   "pygments_lexer": "ipython3",
   "version": "3.13.5"
  }
 },
 "nbformat": 4,
 "nbformat_minor": 5
}
