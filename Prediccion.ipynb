{
 "cells": [
  {
   "cell_type": "markdown",
   "id": "b64b33af",
   "metadata": {},
   "source": [
    "# Librerias"
   ]
  },
  {
   "cell_type": "code",
   "execution_count": 10,
   "id": "aa42846d",
   "metadata": {},
   "outputs": [],
   "source": [
    "# 📦 Importación de librerías necesarias\n",
    "import pandas as pd\n",
    "import matplotlib.pyplot as plt"
   ]
  },
  {
   "cell_type": "markdown",
   "id": "fd940638",
   "metadata": {},
   "source": [
    "# Carga del archivo"
   ]
  },
  {
   "cell_type": "code",
   "execution_count": 11,
   "id": "5aa1eee3",
   "metadata": {},
   "outputs": [
    {
     "name": "stdout",
     "output_type": "stream",
     "text": [
      "✅ Archivo cargado correctamente.\n",
      "\n",
      "🔍 Primeras filas del archivo:\n",
      "       Fecha  Posicion  Numero\n",
      "0 2025-07-21         1      25\n",
      "1 2025-07-21         2       5\n",
      "2 2025-07-21         3      88\n",
      "3 2025-07-21         4      91\n",
      "4 2025-07-21         5      76\n"
     ]
    }
   ],
   "source": [
    "# 📁 1. Cargar el archivo Excel\n",
    "ruta_archivo = 'data/tombola.xlsx'\n",
    "try:\n",
    "    df = pd.read_excel(ruta_archivo)\n",
    "    print(\"✅ Archivo cargado correctamente.\")\n",
    "except FileNotFoundError:\n",
    "    print(\"❌ Error: El archivo 'tombola.xlsx' no se encontró en la carpeta 'data'.\")\n",
    "    exit()\n",
    "\n",
    "# 👁 2. Vista previa del DataFrame\n",
    "print(\"\\n🔍 Primeras filas del archivo:\")\n",
    "print(df.head())"
   ]
  },
  {
   "cell_type": "markdown",
   "id": "9c5a27dd",
   "metadata": {},
   "source": [
    "### 🔹 Nivel 1 - Estadística Básica\n",
    "\n",
    "#### ✅ Análisis de Frecuencia\n"
   ]
  },
  {
   "cell_type": "markdown",
   "id": "bf1f4b6f",
   "metadata": {},
   "source": [
    "**Descripción**: Contar cuántas veces apareció cada número y seleccionar los 10 más frecuentes.\n"
   ]
  },
  {
   "cell_type": "code",
   "execution_count": 12,
   "id": "81989791",
   "metadata": {},
   "outputs": [
    {
     "name": "stdout",
     "output_type": "stream",
     "text": [
      "[28, 81, 37, 25, 22, 6, 40, 76, 17, 29]\n"
     ]
    }
   ],
   "source": [
    "# Ejecutar el script desde Scripts\n",
    "!python Scripts/analisis_frecuencia_tombola.py"
   ]
  },
  {
   "cell_type": "markdown",
   "id": "c585edf2",
   "metadata": {},
   "source": [
    "### 🔹 Nivel 2 - Modelos Intermedios con ML\n",
    "\n",
    "#### 1. Clasificación Binaria (Random Forest / XGBoost / LightGBM)\n",
    "\n",
    "**Descripción**: Crear un dataset donde por cada día indiques si un número apareció (1) o no (0), y uses features como día de la semana, frecuencia pasada, etc."
   ]
  },
  {
   "cell_type": "markdown",
   "id": "837ff9e3",
   "metadata": {},
   "source": [
    "#### Random Forest:"
   ]
  },
  {
   "cell_type": "code",
   "execution_count": 13,
   "id": "c8b9ecb9",
   "metadata": {},
   "outputs": [
    {
     "name": "stdout",
     "output_type": "stream",
     "text": [
      "✅ Archivo cargado correctamente.\n",
      "\n",
      "📋 Reporte de Clasificación:\n",
      "              precision    recall  f1-score   support\n",
      "\n",
      "           0       0.93      0.96      0.94       335\n",
      "           1       0.06      0.04      0.05        25\n",
      "\n",
      "    accuracy                           0.89       360\n",
      "   macro avg       0.50      0.50      0.50       360\n",
      "weighted avg       0.87      0.89      0.88       360\n",
      "\n",
      "🎯 Precisión general: 89.17 %\n",
      "\n",
      "📈 Importancia de las features:\n",
      "- numero: 81.41%\n",
      "- dia_semana: 11.3%\n",
      "- frecuencia_pasada: 7.29%\n",
      "\n",
      "🔟 Números con mayor probabilidad de salir en el próximo sorteo:\n",
      "[41, 39, 45, 33, 44, 76, 0, 32, 29, 34]\n"
     ]
    }
   ],
   "source": [
    "!python Scripts/modelo_rf_binario_tombola.py"
   ]
  },
  {
   "cell_type": "markdown",
   "id": "57036e80",
   "metadata": {},
   "source": [
    "#### XGBoost:"
   ]
  },
  {
   "cell_type": "code",
   "execution_count": 14,
   "id": "cd38d079",
   "metadata": {},
   "outputs": [
    {
     "name": "stdout",
     "output_type": "stream",
     "text": [
      "✅ Archivo cargado correctamente.\n",
      "\n",
      "📋 Reporte de Clasificación:\n",
      "              precision    recall  f1-score   support\n",
      "\n",
      "           0       0.93      1.00      0.96       335\n",
      "           1       0.00      0.00      0.00        25\n",
      "\n",
      "    accuracy                           0.93       360\n",
      "   macro avg       0.47      0.50      0.48       360\n",
      "weighted avg       0.87      0.93      0.90       360\n",
      "\n",
      "🎯 Precisión general: 92.78 %\n",
      "\n",
      "📈 Importancia de las features:\n",
      "- numero: 36.060001373291016%\n",
      "- dia_semana: 30.010000228881836%\n",
      "- frecuencia_pasada: 33.93000030517578%\n",
      "\n",
      "🔟 Números con mayor probabilidad de salir en el próximo sorteo:\n",
      "[26, 39, 30, 53, 54, 45, 31, 23, 24, 1]\n"
     ]
    },
    {
     "name": "stderr",
     "output_type": "stream",
     "text": [
      "c:\\Users\\londe\\OneDrive\\Programacion\\6 - Otros\\Prediccion-Bingo-Municipal\\venv\\Lib\\site-packages\\xgboost\\training.py:183: UserWarning: [18:53:23] WARNING: C:\\actions-runner\\_work\\xgboost\\xgboost\\src\\learner.cc:738: \n",
      "Parameters: { \"use_label_encoder\" } are not used.\n",
      "\n",
      "  bst.update(dtrain, iteration=i, fobj=obj)\n"
     ]
    }
   ],
   "source": [
    "!python Scripts/modelo_xgb_binario_tombola.py"
   ]
  },
  {
   "cell_type": "markdown",
   "id": "658b175c",
   "metadata": {},
   "source": [
    "#### LightGBM:"
   ]
  },
  {
   "cell_type": "code",
   "execution_count": 15,
   "id": "545e2716",
   "metadata": {},
   "outputs": [
    {
     "name": "stdout",
     "output_type": "stream",
     "text": [
      "✅ Archivo cargado correctamente.\n",
      "[LightGBM] [Info] Number of positive: 140, number of negative: 1300\n",
      "[LightGBM] [Info] Auto-choosing row-wise multi-threading, the overhead of testing was 0.000033 seconds.\n",
      "You can set `force_row_wise=true` to remove the overhead.\n",
      "And if memory is not enough, you can set `force_col_wise=true`.\n",
      "[LightGBM] [Info] Total Bins 112\n",
      "[LightGBM] [Info] Number of data points in the train set: 1440, number of used features: 3\n",
      "[LightGBM] [Info] [binary:BoostFromScore]: pavg=0.097222 -> initscore=-2.228477\n",
      "[LightGBM] [Info] Start training from score -2.228477\n",
      "\n",
      "📋 Reporte de Clasificación:\n",
      "              precision    recall  f1-score   support\n",
      "\n",
      "           0       0.93      0.98      0.96       335\n",
      "           1       0.14      0.04      0.06        25\n",
      "\n",
      "    accuracy                           0.92       360\n",
      "   macro avg       0.54      0.51      0.51       360\n",
      "weighted avg       0.88      0.92      0.89       360\n",
      "\n",
      "🎯 Precisión general: 91.67 %\n",
      "\n",
      "📈 Importancia de las features:\n",
      "- numero: 70.13%\n",
      "- dia_semana: 19.6%\n",
      "- frecuencia_pasada: 10.27%\n",
      "\n",
      "🔟 Números con mayor probabilidad de salir en el próximo sorteo:\n",
      "[39, 26, 45, 8, 33, 54, 34, 11, 28, 41]\n"
     ]
    }
   ],
   "source": [
    "!python Scripts/modelo_lgb_binario_tombola.py"
   ]
  },
  {
   "cell_type": "markdown",
   "id": "0917336c",
   "metadata": {},
   "source": [
    "### 2. Modelos de Series Temporales (Prophet / ARIMA)\n",
    "\n",
    "**Descripción**: Tratar cada número (del 00 al 99) como una serie temporal binaria (1 si apareció, 0 si no) y modelar su aparición en el tiempo."
   ]
  },
  {
   "cell_type": "markdown",
   "id": "45e31847",
   "metadata": {},
   "source": [
    "#### Prophet:"
   ]
  },
  {
   "cell_type": "code",
   "execution_count": 23,
   "id": "1cb0643c",
   "metadata": {},
   "outputs": [
    {
     "name": "stdout",
     "output_type": "stream",
     "text": [
      "📅 Predicción de aparición para los próximos días con Prophet:\n",
      "[90, 38, 6, 94, 22, 44, 25, 14, 91, 55]\n"
     ]
    },
    {
     "name": "stderr",
     "output_type": "stream",
     "text": [
      "Importing plotly failed. Interactive plots will not work.\n",
      "19:00:00 - cmdstanpy - INFO - Chain [1] start processing\n",
      "19:00:00 - cmdstanpy - INFO - Chain [1] done processing\n",
      "19:00:01 - cmdstanpy - INFO - Chain [1] start processing\n",
      "19:00:01 - cmdstanpy - INFO - Chain [1] done processing\n",
      "19:00:01 - cmdstanpy - INFO - Chain [1] start processing\n",
      "19:00:01 - cmdstanpy - INFO - Chain [1] done processing\n",
      "19:00:01 - cmdstanpy - INFO - Chain [1] start processing\n",
      "19:00:01 - cmdstanpy - INFO - Chain [1] done processing\n",
      "19:00:01 - cmdstanpy - INFO - Chain [1] start processing\n",
      "19:00:02 - cmdstanpy - INFO - Chain [1] done processing\n",
      "19:00:02 - cmdstanpy - INFO - Chain [1] start processing\n",
      "19:00:02 - cmdstanpy - INFO - Chain [1] done processing\n",
      "19:00:02 - cmdstanpy - INFO - Chain [1] start processing\n",
      "19:00:02 - cmdstanpy - INFO - Chain [1] done processing\n",
      "19:00:02 - cmdstanpy - INFO - Chain [1] start processing\n",
      "19:00:03 - cmdstanpy - INFO - Chain [1] done processing\n",
      "19:00:03 - cmdstanpy - INFO - Chain [1] start processing\n",
      "19:00:03 - cmdstanpy - INFO - Chain [1] done processing\n",
      "19:00:03 - cmdstanpy - INFO - Chain [1] start processing\n",
      "19:00:03 - cmdstanpy - INFO - Chain [1] done processing\n",
      "19:00:03 - cmdstanpy - INFO - Chain [1] start processing\n",
      "19:00:03 - cmdstanpy - INFO - Chain [1] done processing\n",
      "19:00:04 - cmdstanpy - INFO - Chain [1] start processing\n",
      "19:00:04 - cmdstanpy - INFO - Chain [1] done processing\n",
      "19:00:04 - cmdstanpy - INFO - Chain [1] start processing\n",
      "19:00:04 - cmdstanpy - INFO - Chain [1] done processing\n",
      "19:00:04 - cmdstanpy - INFO - Chain [1] start processing\n",
      "19:00:04 - cmdstanpy - INFO - Chain [1] done processing\n",
      "19:00:04 - cmdstanpy - INFO - Chain [1] start processing\n",
      "19:00:05 - cmdstanpy - INFO - Chain [1] done processing\n",
      "19:00:05 - cmdstanpy - INFO - Chain [1] start processing\n",
      "19:00:05 - cmdstanpy - INFO - Chain [1] done processing\n",
      "19:00:05 - cmdstanpy - INFO - Chain [1] start processing\n",
      "19:00:05 - cmdstanpy - INFO - Chain [1] done processing\n",
      "19:00:05 - cmdstanpy - INFO - Chain [1] start processing\n",
      "19:00:06 - cmdstanpy - INFO - Chain [1] done processing\n",
      "19:00:06 - cmdstanpy - INFO - Chain [1] start processing\n",
      "19:00:06 - cmdstanpy - INFO - Chain [1] done processing\n",
      "19:00:06 - cmdstanpy - INFO - Chain [1] start processing\n",
      "19:00:06 - cmdstanpy - INFO - Chain [1] done processing\n",
      "19:00:06 - cmdstanpy - INFO - Chain [1] start processing\n",
      "19:00:07 - cmdstanpy - INFO - Chain [1] done processing\n",
      "19:00:07 - cmdstanpy - INFO - Chain [1] start processing\n",
      "19:00:07 - cmdstanpy - INFO - Chain [1] done processing\n",
      "19:00:07 - cmdstanpy - INFO - Chain [1] start processing\n",
      "19:00:07 - cmdstanpy - INFO - Chain [1] done processing\n",
      "19:00:07 - cmdstanpy - INFO - Chain [1] start processing\n",
      "19:00:07 - cmdstanpy - INFO - Chain [1] done processing\n",
      "19:00:07 - cmdstanpy - INFO - Chain [1] start processing\n",
      "19:00:08 - cmdstanpy - INFO - Chain [1] done processing\n",
      "19:00:08 - cmdstanpy - INFO - Chain [1] start processing\n",
      "19:00:08 - cmdstanpy - INFO - Chain [1] done processing\n",
      "19:00:08 - cmdstanpy - INFO - Chain [1] start processing\n",
      "19:00:08 - cmdstanpy - INFO - Chain [1] done processing\n",
      "19:00:08 - cmdstanpy - INFO - Chain [1] start processing\n",
      "19:00:09 - cmdstanpy - INFO - Chain [1] done processing\n",
      "19:00:09 - cmdstanpy - INFO - Chain [1] start processing\n",
      "19:00:09 - cmdstanpy - INFO - Chain [1] done processing\n"
     ]
    }
   ],
   "source": [
    "!python Scripts/modelo_prophet_tombola.py"
   ]
  },
  {
   "cell_type": "markdown",
   "id": "31a48703",
   "metadata": {},
   "source": [
    "#### ARIMA:"
   ]
  },
  {
   "cell_type": "code",
   "execution_count": 17,
   "id": "e37fdf99",
   "metadata": {},
   "outputs": [
    {
     "name": "stdout",
     "output_type": "stream",
     "text": [
      "📊 Predicción de aparición para los próximos días con ARIMA:\n",
      "[]\n"
     ]
    }
   ],
   "source": [
    "!python Scripts/modelo_arima_binario_tombola.py"
   ]
  },
  {
   "cell_type": "markdown",
   "id": "8acbe51d",
   "metadata": {},
   "source": [
    "Si la lista de predicciones te está dando vacía ([]), puede deberse a varios motivos en la lógica o en los datos.\n"
   ]
  },
  {
   "cell_type": "markdown",
   "id": "1e31c29e",
   "metadata": {},
   "source": [
    "### 🔹 Nivel 3 - Modelos Avanzados\n",
    "\n",
    "#### 1. LSTM / Transformers\n",
    "\n",
    "**Descripción**: Modelar la secuencia completa de sorteos como una serie de secuencias (por día) y predecir la siguiente secuencia."
   ]
  },
  {
   "cell_type": "code",
   "execution_count": 27,
   "id": "9d82cab7",
   "metadata": {},
   "outputs": [
    {
     "name": "stdout",
     "output_type": "stream",
     "text": [
      "\n",
      "🔮 Predicción de los próximos 10 números con LSTM:\n",
      "[6, 90, 38, 9, 6, 90, 38, 9, 6, 90]\n"
     ]
    },
    {
     "name": "stderr",
     "output_type": "stream",
     "text": [
      "2025-08-04 19:06:20.485725: I tensorflow/core/util/port.cc:153] oneDNN custom operations are on. You may see slightly different numerical results due to floating-point round-off errors from different computation orders. To turn them off, set the environment variable `TF_ENABLE_ONEDNN_OPTS=0`.\n",
      "c:\\Users\\londe\\OneDrive\\Programacion\\6 - Otros\\Prediccion-Bingo-Municipal\\venv\\Lib\\site-packages\\google\\protobuf\\runtime_version.py:98: UserWarning: Protobuf gencode version 5.28.3 is exactly one major version older than the runtime version 6.31.1 at tensorflow/core/framework/attr_value.proto. Please update the gencode to avoid compatibility violations in the next runtime release.\n",
      "  warnings.warn(\n",
      "c:\\Users\\londe\\OneDrive\\Programacion\\6 - Otros\\Prediccion-Bingo-Municipal\\venv\\Lib\\site-packages\\google\\protobuf\\runtime_version.py:98: UserWarning: Protobuf gencode version 5.28.3 is exactly one major version older than the runtime version 6.31.1 at tensorflow/core/framework/tensor.proto. Please update the gencode to avoid compatibility violations in the next runtime release.\n",
      "  warnings.warn(\n",
      "c:\\Users\\londe\\OneDrive\\Programacion\\6 - Otros\\Prediccion-Bingo-Municipal\\venv\\Lib\\site-packages\\google\\protobuf\\runtime_version.py:98: UserWarning: Protobuf gencode version 5.28.3 is exactly one major version older than the runtime version 6.31.1 at tensorflow/core/framework/resource_handle.proto. Please update the gencode to avoid compatibility violations in the next runtime release.\n",
      "  warnings.warn(\n",
      "c:\\Users\\londe\\OneDrive\\Programacion\\6 - Otros\\Prediccion-Bingo-Municipal\\venv\\Lib\\site-packages\\google\\protobuf\\runtime_version.py:98: UserWarning: Protobuf gencode version 5.28.3 is exactly one major version older than the runtime version 6.31.1 at tensorflow/core/framework/tensor_shape.proto. Please update the gencode to avoid compatibility violations in the next runtime release.\n",
      "  warnings.warn(\n",
      "c:\\Users\\londe\\OneDrive\\Programacion\\6 - Otros\\Prediccion-Bingo-Municipal\\venv\\Lib\\site-packages\\google\\protobuf\\runtime_version.py:98: UserWarning: Protobuf gencode version 5.28.3 is exactly one major version older than the runtime version 6.31.1 at tensorflow/core/framework/types.proto. Please update the gencode to avoid compatibility violations in the next runtime release.\n",
      "  warnings.warn(\n",
      "c:\\Users\\londe\\OneDrive\\Programacion\\6 - Otros\\Prediccion-Bingo-Municipal\\venv\\Lib\\site-packages\\google\\protobuf\\runtime_version.py:98: UserWarning: Protobuf gencode version 5.28.3 is exactly one major version older than the runtime version 6.31.1 at tensorflow/core/framework/full_type.proto. Please update the gencode to avoid compatibility violations in the next runtime release.\n",
      "  warnings.warn(\n",
      "c:\\Users\\londe\\OneDrive\\Programacion\\6 - Otros\\Prediccion-Bingo-Municipal\\venv\\Lib\\site-packages\\google\\protobuf\\runtime_version.py:98: UserWarning: Protobuf gencode version 5.28.3 is exactly one major version older than the runtime version 6.31.1 at tensorflow/core/framework/function.proto. Please update the gencode to avoid compatibility violations in the next runtime release.\n",
      "  warnings.warn(\n",
      "c:\\Users\\londe\\OneDrive\\Programacion\\6 - Otros\\Prediccion-Bingo-Municipal\\venv\\Lib\\site-packages\\google\\protobuf\\runtime_version.py:98: UserWarning: Protobuf gencode version 5.28.3 is exactly one major version older than the runtime version 6.31.1 at tensorflow/core/framework/node_def.proto. Please update the gencode to avoid compatibility violations in the next runtime release.\n",
      "  warnings.warn(\n",
      "c:\\Users\\londe\\OneDrive\\Programacion\\6 - Otros\\Prediccion-Bingo-Municipal\\venv\\Lib\\site-packages\\google\\protobuf\\runtime_version.py:98: UserWarning: Protobuf gencode version 5.28.3 is exactly one major version older than the runtime version 6.31.1 at tensorflow/core/framework/op_def.proto. Please update the gencode to avoid compatibility violations in the next runtime release.\n",
      "  warnings.warn(\n",
      "c:\\Users\\londe\\OneDrive\\Programacion\\6 - Otros\\Prediccion-Bingo-Municipal\\venv\\Lib\\site-packages\\google\\protobuf\\runtime_version.py:98: UserWarning: Protobuf gencode version 5.28.3 is exactly one major version older than the runtime version 6.31.1 at tensorflow/core/framework/graph.proto. Please update the gencode to avoid compatibility violations in the next runtime release.\n",
      "  warnings.warn(\n",
      "c:\\Users\\londe\\OneDrive\\Programacion\\6 - Otros\\Prediccion-Bingo-Municipal\\venv\\Lib\\site-packages\\google\\protobuf\\runtime_version.py:98: UserWarning: Protobuf gencode version 5.28.3 is exactly one major version older than the runtime version 6.31.1 at tensorflow/core/framework/graph_debug_info.proto. Please update the gencode to avoid compatibility violations in the next runtime release.\n",
      "  warnings.warn(\n",
      "c:\\Users\\londe\\OneDrive\\Programacion\\6 - Otros\\Prediccion-Bingo-Municipal\\venv\\Lib\\site-packages\\google\\protobuf\\runtime_version.py:98: UserWarning: Protobuf gencode version 5.28.3 is exactly one major version older than the runtime version 6.31.1 at tensorflow/core/framework/versions.proto. Please update the gencode to avoid compatibility violations in the next runtime release.\n",
      "  warnings.warn(\n",
      "c:\\Users\\londe\\OneDrive\\Programacion\\6 - Otros\\Prediccion-Bingo-Municipal\\venv\\Lib\\site-packages\\google\\protobuf\\runtime_version.py:98: UserWarning: Protobuf gencode version 5.28.3 is exactly one major version older than the runtime version 6.31.1 at tensorflow/core/protobuf/config.proto. Please update the gencode to avoid compatibility violations in the next runtime release.\n",
      "  warnings.warn(\n",
      "c:\\Users\\londe\\OneDrive\\Programacion\\6 - Otros\\Prediccion-Bingo-Municipal\\venv\\Lib\\site-packages\\google\\protobuf\\runtime_version.py:98: UserWarning: Protobuf gencode version 5.28.3 is exactly one major version older than the runtime version 6.31.1 at xla/tsl/protobuf/coordination_config.proto. Please update the gencode to avoid compatibility violations in the next runtime release.\n",
      "  warnings.warn(\n",
      "c:\\Users\\londe\\OneDrive\\Programacion\\6 - Otros\\Prediccion-Bingo-Municipal\\venv\\Lib\\site-packages\\google\\protobuf\\runtime_version.py:98: UserWarning: Protobuf gencode version 5.28.3 is exactly one major version older than the runtime version 6.31.1 at tensorflow/core/framework/cost_graph.proto. Please update the gencode to avoid compatibility violations in the next runtime release.\n",
      "  warnings.warn(\n",
      "c:\\Users\\londe\\OneDrive\\Programacion\\6 - Otros\\Prediccion-Bingo-Municipal\\venv\\Lib\\site-packages\\google\\protobuf\\runtime_version.py:98: UserWarning: Protobuf gencode version 5.28.3 is exactly one major version older than the runtime version 6.31.1 at tensorflow/core/framework/step_stats.proto. Please update the gencode to avoid compatibility violations in the next runtime release.\n",
      "  warnings.warn(\n",
      "c:\\Users\\londe\\OneDrive\\Programacion\\6 - Otros\\Prediccion-Bingo-Municipal\\venv\\Lib\\site-packages\\google\\protobuf\\runtime_version.py:98: UserWarning: Protobuf gencode version 5.28.3 is exactly one major version older than the runtime version 6.31.1 at tensorflow/core/framework/allocation_description.proto. Please update the gencode to avoid compatibility violations in the next runtime release.\n",
      "  warnings.warn(\n",
      "c:\\Users\\londe\\OneDrive\\Programacion\\6 - Otros\\Prediccion-Bingo-Municipal\\venv\\Lib\\site-packages\\google\\protobuf\\runtime_version.py:98: UserWarning: Protobuf gencode version 5.28.3 is exactly one major version older than the runtime version 6.31.1 at tensorflow/core/framework/tensor_description.proto. Please update the gencode to avoid compatibility violations in the next runtime release.\n",
      "  warnings.warn(\n",
      "c:\\Users\\londe\\OneDrive\\Programacion\\6 - Otros\\Prediccion-Bingo-Municipal\\venv\\Lib\\site-packages\\google\\protobuf\\runtime_version.py:98: UserWarning: Protobuf gencode version 5.28.3 is exactly one major version older than the runtime version 6.31.1 at tensorflow/core/protobuf/cluster.proto. Please update the gencode to avoid compatibility violations in the next runtime release.\n",
      "  warnings.warn(\n",
      "c:\\Users\\londe\\OneDrive\\Programacion\\6 - Otros\\Prediccion-Bingo-Municipal\\venv\\Lib\\site-packages\\google\\protobuf\\runtime_version.py:98: UserWarning: Protobuf gencode version 5.28.3 is exactly one major version older than the runtime version 6.31.1 at tensorflow/core/protobuf/debug.proto. Please update the gencode to avoid compatibility violations in the next runtime release.\n",
      "  warnings.warn(\n",
      "2025-08-04 19:06:22.478124: I tensorflow/core/util/port.cc:153] oneDNN custom operations are on. You may see slightly different numerical results due to floating-point round-off errors from different computation orders. To turn them off, set the environment variable `TF_ENABLE_ONEDNN_OPTS=0`.\n",
      "2025-08-04 19:06:24.102818: I tensorflow/core/platform/cpu_feature_guard.cc:210] This TensorFlow binary is optimized to use available CPU instructions in performance-critical operations.\n",
      "To enable the following instructions: SSE3 SSE4.1 SSE4.2 AVX AVX2 FMA, in other operations, rebuild TensorFlow with the appropriate compiler flags.\n"
     ]
    }
   ],
   "source": [
    "!python Scripts/modelo_lstm_tombola.py"
   ]
  },
  {
   "cell_type": "markdown",
   "id": "f4a5baed",
   "metadata": {},
   "source": [
    "#### 2. Cadenas de Markov\n",
    "\n",
    "**Descripción**: Modelar la probabilidad de aparición de un número en función de apariciones anteriores."
   ]
  },
  {
   "cell_type": "code",
   "execution_count": 28,
   "id": "8b59b62b",
   "metadata": {},
   "outputs": [
    {
     "name": "stdout",
     "output_type": "stream",
     "text": [
      "🔗 Predicción con Cadenas de Markov (desde el último número sorteado):\n",
      "[35, 81, 28, 37, 40, 17, 6, 29, 14, 76]\n"
     ]
    }
   ],
   "source": [
    "!python Scripts/modelo_markov_tombola.py"
   ]
  },
  {
   "cell_type": "markdown",
   "id": "fd930369",
   "metadata": {},
   "source": [
    "#### 3. Regresión de Conteo (Poisson / Binomial Negativa)\n",
    "\n",
    "**Descripción**: Modelar el conteo de aparición de cada número como una variable dependiente."
   ]
  },
  {
   "cell_type": "markdown",
   "id": "ae84b552",
   "metadata": {},
   "source": [
    "#### Poisson"
   ]
  },
  {
   "cell_type": "code",
   "execution_count": 29,
   "id": "9ca475a2",
   "metadata": {},
   "outputs": [
    {
     "name": "stdout",
     "output_type": "stream",
     "text": [
      "📈 Predicción de aparición por Regresión de Poisson:\n",
      "[0, 1, 2, 3, 4, 5, 6, 7, 8, 9]\n"
     ]
    }
   ],
   "source": [
    "!python Scripts/modelo_poisson_conteo_tombola.py"
   ]
  },
  {
   "cell_type": "markdown",
   "id": "694dcc43",
   "metadata": {},
   "source": [
    "### Binomial Negativa"
   ]
  },
  {
   "cell_type": "code",
   "execution_count": 31,
   "id": "2f97947a",
   "metadata": {},
   "outputs": [
    {
     "name": "stderr",
     "output_type": "stream",
     "text": [
      "c:\\Users\\londe\\OneDrive\\Programacion\\6 - Otros\\Prediccion-Bingo-Municipal\\venv\\Lib\\site-packages\\statsmodels\\genmod\\families\\family.py:1367: ValueWarning: Negative binomial dispersion parameter alpha not set. Using default value alpha=1.0.\n",
      "  warnings.warn(\"Negative binomial dispersion parameter alpha not \"\n",
      "Traceback (most recent call last):\n",
      "  File \u001b[35m\"c:\\Users\\londe\\OneDrive\\Programacion\\6 - Otros\\Prediccion-Bingo-Municipal\\Scripts\\modelo_binomial_negativa_conteo_tombola.py\"\u001b[0m, line \u001b[35m33\u001b[0m, in \u001b[35m<module>\u001b[0m\n",
      "    modelo = sm.GLM(y, X, family=sm.families.NegativeBinomial())\n",
      "  File \u001b[35m\"c:\\Users\\londe\\OneDrive\\Programacion\\6 - Otros\\Prediccion-Bingo-Municipal\\venv\\Lib\\site-packages\\statsmodels\\genmod\\generalized_linear_model.py\"\u001b[0m, line \u001b[35m326\u001b[0m, in \u001b[35m__init__\u001b[0m\n",
      "    \u001b[31msuper().__init__\u001b[0m\u001b[1;31m(endog, exog, missing=missing,\u001b[0m\n",
      "    \u001b[31m~~~~~~~~~~~~~~~~\u001b[0m\u001b[1;31m^^^^^^^^^^^^^^^^^^^^^^^^^^^^^^\u001b[0m\n",
      "                              \u001b[1;31moffset=offset, exposure=exposure,\u001b[0m\n",
      "                              \u001b[1;31m^^^^^^^^^^^^^^^^^^^^^^^^^^^^^^^^^\u001b[0m\n",
      "                              \u001b[1;31mfreq_weights=freq_weights,\u001b[0m\n",
      "                              \u001b[1;31m^^^^^^^^^^^^^^^^^^^^^^^^^^\u001b[0m\n",
      "                              \u001b[1;31mvar_weights=var_weights, **kwargs)\u001b[0m\n",
      "                              \u001b[1;31m^^^^^^^^^^^^^^^^^^^^^^^^^^^^^^^^^^\u001b[0m\n",
      "  File \u001b[35m\"c:\\Users\\londe\\OneDrive\\Programacion\\6 - Otros\\Prediccion-Bingo-Municipal\\venv\\Lib\\site-packages\\statsmodels\\base\\model.py\"\u001b[0m, line \u001b[35m270\u001b[0m, in \u001b[35m__init__\u001b[0m\n",
      "    \u001b[31msuper().__init__\u001b[0m\u001b[1;31m(endog, exog, **kwargs)\u001b[0m\n",
      "    \u001b[31m~~~~~~~~~~~~~~~~\u001b[0m\u001b[1;31m^^^^^^^^^^^^^^^^^^^^^^^\u001b[0m\n",
      "  File \u001b[35m\"c:\\Users\\londe\\OneDrive\\Programacion\\6 - Otros\\Prediccion-Bingo-Municipal\\venv\\Lib\\site-packages\\statsmodels\\base\\model.py\"\u001b[0m, line \u001b[35m95\u001b[0m, in \u001b[35m__init__\u001b[0m\n",
      "    self.data = \u001b[31mself._handle_data\u001b[0m\u001b[1;31m(endog, exog, missing, hasconst,\u001b[0m\n",
      "                \u001b[31m~~~~~~~~~~~~~~~~~\u001b[0m\u001b[1;31m^^^^^^^^^^^^^^^^^^^^^^^^^^^^^^^^\u001b[0m\n",
      "                                  \u001b[1;31m**kwargs)\u001b[0m\n",
      "                                  \u001b[1;31m^^^^^^^^^\u001b[0m\n",
      "  File \u001b[35m\"c:\\Users\\londe\\OneDrive\\Programacion\\6 - Otros\\Prediccion-Bingo-Municipal\\venv\\Lib\\site-packages\\statsmodels\\base\\model.py\"\u001b[0m, line \u001b[35m135\u001b[0m, in \u001b[35m_handle_data\u001b[0m\n",
      "    data = handle_data(endog, exog, missing, hasconst, **kwargs)\n",
      "  File \u001b[35m\"c:\\Users\\londe\\OneDrive\\Programacion\\6 - Otros\\Prediccion-Bingo-Municipal\\venv\\Lib\\site-packages\\statsmodels\\base\\data.py\"\u001b[0m, line \u001b[35m675\u001b[0m, in \u001b[35mhandle_data\u001b[0m\n",
      "    return klass(endog, exog=exog, missing=missing, hasconst=hasconst,\n",
      "                 **kwargs)\n",
      "  File \u001b[35m\"c:\\Users\\londe\\OneDrive\\Programacion\\6 - Otros\\Prediccion-Bingo-Municipal\\venv\\Lib\\site-packages\\statsmodels\\base\\data.py\"\u001b[0m, line \u001b[35m84\u001b[0m, in \u001b[35m__init__\u001b[0m\n",
      "    self.endog, self.exog = \u001b[31mself._convert_endog_exog\u001b[0m\u001b[1;31m(endog, exog)\u001b[0m\n",
      "                            \u001b[31m~~~~~~~~~~~~~~~~~~~~~~~~\u001b[0m\u001b[1;31m^^^^^^^^^^^^^\u001b[0m\n",
      "  File \u001b[35m\"c:\\Users\\londe\\OneDrive\\Programacion\\6 - Otros\\Prediccion-Bingo-Municipal\\venv\\Lib\\site-packages\\statsmodels\\base\\data.py\"\u001b[0m, line \u001b[35m509\u001b[0m, in \u001b[35m_convert_endog_exog\u001b[0m\n",
      "    raise ValueError(\"Pandas data cast to numpy dtype of object. \"\n",
      "                     \"Check input data with np.asarray(data).\")\n",
      "\u001b[1;35mValueError\u001b[0m: \u001b[35mPandas data cast to numpy dtype of object. Check input data with np.asarray(data).\u001b[0m\n"
     ]
    }
   ],
   "source": [
    "!python Scripts/modelo_binomial_negativa_conteo_tombola.py"
   ]
  }
 ],
 "metadata": {
  "kernelspec": {
   "display_name": "venv",
   "language": "python",
   "name": "python3"
  },
  "language_info": {
   "codemirror_mode": {
    "name": "ipython",
    "version": 3
   },
   "file_extension": ".py",
   "mimetype": "text/x-python",
   "name": "python",
   "nbconvert_exporter": "python",
   "pygments_lexer": "ipython3",
   "version": "3.13.5"
  }
 },
 "nbformat": 4,
 "nbformat_minor": 5
}
