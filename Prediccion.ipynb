{
 "cells": [
  {
   "cell_type": "markdown",
   "id": "b64b33af",
   "metadata": {},
   "source": [
    "# Librerias"
   ]
  },
  {
   "cell_type": "code",
   "execution_count": 77,
   "id": "aa42846d",
   "metadata": {},
   "outputs": [],
   "source": [
    "# 📦 Importación de librerías necesarias\n",
    "import pandas as pd\n",
    "import matplotlib.pyplot as plt"
   ]
  },
  {
   "cell_type": "markdown",
   "id": "fd940638",
   "metadata": {},
   "source": [
    "# Carga del archivo"
   ]
  },
  {
   "cell_type": "code",
   "execution_count": 78,
   "id": "5aa1eee3",
   "metadata": {},
   "outputs": [
    {
     "name": "stdout",
     "output_type": "stream",
     "text": [
      "✅ Archivo cargado correctamente.\n",
      "\n",
      "🔍 Primeras filas del archivo:\n",
      "       Fecha  Posicion  Numero\n",
      "0 2025-07-21         1      25\n",
      "1 2025-07-21         2       5\n",
      "2 2025-07-21         3      88\n",
      "3 2025-07-21         4      91\n",
      "4 2025-07-21         5      76\n"
     ]
    }
   ],
   "source": [
    "# 📁 1. Cargar el archivo Excel\n",
    "ruta_archivo = 'data/tombola.xlsx'\n",
    "try:\n",
    "    df = pd.read_excel(ruta_archivo)\n",
    "    print(\"✅ Archivo cargado correctamente.\")\n",
    "except FileNotFoundError:\n",
    "    print(\"❌ Error: El archivo 'tombola.xlsx' no se encontró en la carpeta 'data'.\")\n",
    "    exit()\n",
    "\n",
    "# 👁 2. Vista previa del DataFrame\n",
    "print(\"\\n🔍 Primeras filas del archivo:\")\n",
    "print(df.head())"
   ]
  },
  {
   "cell_type": "markdown",
   "id": "9c5a27dd",
   "metadata": {},
   "source": [
    "### 🔹 Nivel 1 - Estadística Básica\n",
    "\n",
    "#### ✅ Análisis de Frecuencia\n"
   ]
  },
  {
   "cell_type": "markdown",
   "id": "bf1f4b6f",
   "metadata": {},
   "source": [
    "**Descripción**: Contar cuántas veces apareció cada número y seleccionar los 10 más frecuentes.\n"
   ]
  },
  {
   "cell_type": "code",
   "execution_count": 79,
   "id": "81989791",
   "metadata": {},
   "outputs": [
    {
     "name": "stdout",
     "output_type": "stream",
     "text": [
      "⚠️ El archivo de predicciones ya existía y será sobrescrito.\n",
      "✅ Se han generado predicciones semanales y se han guardado en 'data\\analisis_frecuencia_tombola.csv'\n",
      "📅 Total de predicciones generadas: 3\n"
     ]
    }
   ],
   "source": [
    "# Ejecutar el script desde Scripts\n",
    "!python Scripts/analisis_frecuencia_tombola.py"
   ]
  },
  {
   "cell_type": "markdown",
   "id": "c585edf2",
   "metadata": {},
   "source": [
    "### 🔹 Nivel 2 - Modelos Intermedios con ML\n",
    "\n",
    "#### 1. Clasificación Binaria (Random Forest / XGBoost / LightGBM)\n",
    "\n",
    "**Descripción**: Crear un dataset donde por cada día indiques si un número apareció (1) o no (0), y uses features como día de la semana, frecuencia pasada, etc."
   ]
  },
  {
   "cell_type": "markdown",
   "id": "837ff9e3",
   "metadata": {},
   "source": [
    "#### Random Forest:"
   ]
  },
  {
   "cell_type": "code",
   "execution_count": 80,
   "id": "c8b9ecb9",
   "metadata": {},
   "outputs": [
    {
     "name": "stdout",
     "output_type": "stream",
     "text": [
      "✅ Archivo cargado correctamente.\n",
      "\n",
      "✅ Resultados guardados en: data\\modelo_rf_binario_tombola.csv\n"
     ]
    },
    {
     "name": "stderr",
     "output_type": "stream",
     "text": [
      "c:\\Users\\londe\\OneDrive\\Programacion\\6 - Otros\\Prediccion-Bingo-Municipal\\Scripts\\modelo_rf_binario_tombola.py:78: SettingWithCopyWarning: \n",
      "A value is trying to be set on a copy of a slice from a DataFrame.\n",
      "Try using .loc[row_indexer,col_indexer] = value instead\n",
      "\n",
      "See the caveats in the documentation: https://pandas.pydata.org/pandas-docs/stable/user_guide/indexing.html#returning-a-view-versus-a-copy\n",
      "  df_hist[\"frecuencia_pasada\"] = frecuencias\n",
      "c:\\Users\\londe\\OneDrive\\Programacion\\6 - Otros\\Prediccion-Bingo-Municipal\\Scripts\\modelo_rf_binario_tombola.py:78: SettingWithCopyWarning: \n",
      "A value is trying to be set on a copy of a slice from a DataFrame.\n",
      "Try using .loc[row_indexer,col_indexer] = value instead\n",
      "\n",
      "See the caveats in the documentation: https://pandas.pydata.org/pandas-docs/stable/user_guide/indexing.html#returning-a-view-versus-a-copy\n",
      "  df_hist[\"frecuencia_pasada\"] = frecuencias\n"
     ]
    }
   ],
   "source": [
    "!python Scripts/modelo_rf_binario_tombola.py"
   ]
  },
  {
   "cell_type": "markdown",
   "id": "57036e80",
   "metadata": {},
   "source": [
    "#### XGBoost:"
   ]
  },
  {
   "cell_type": "code",
   "execution_count": 81,
   "id": "cd38d079",
   "metadata": {},
   "outputs": [
    {
     "name": "stdout",
     "output_type": "stream",
     "text": [
      "✅ Archivo cargado correctamente.\n",
      "\n",
      "✅ Predicciones semanales guardadas en 'data\\modelo_xgb_binario_tombola.csv'\n"
     ]
    },
    {
     "name": "stderr",
     "output_type": "stream",
     "text": [
      "c:\\Users\\londe\\OneDrive\\Programacion\\6 - Otros\\Prediccion-Bingo-Municipal\\venv\\Lib\\site-packages\\xgboost\\training.py:183: UserWarning: [17:27:39] WARNING: C:\\actions-runner\\_work\\xgboost\\xgboost\\src\\learner.cc:738: \n",
      "Parameters: { \"use_label_encoder\" } are not used.\n",
      "\n",
      "  bst.update(dtrain, iteration=i, fobj=obj)\n",
      "c:\\Users\\londe\\OneDrive\\Programacion\\6 - Otros\\Prediccion-Bingo-Municipal\\venv\\Lib\\site-packages\\xgboost\\training.py:183: UserWarning: [17:27:39] WARNING: C:\\actions-runner\\_work\\xgboost\\xgboost\\src\\learner.cc:738: \n",
      "Parameters: { \"use_label_encoder\" } are not used.\n",
      "\n",
      "  bst.update(dtrain, iteration=i, fobj=obj)\n",
      "c:\\Users\\londe\\OneDrive\\Programacion\\6 - Otros\\Prediccion-Bingo-Municipal\\venv\\Lib\\site-packages\\xgboost\\training.py:183: UserWarning: [17:27:40] WARNING: C:\\actions-runner\\_work\\xgboost\\xgboost\\src\\learner.cc:738: \n",
      "Parameters: { \"use_label_encoder\" } are not used.\n",
      "\n",
      "  bst.update(dtrain, iteration=i, fobj=obj)\n"
     ]
    }
   ],
   "source": [
    "!python Scripts/modelo_xgb_binario_tombola.py"
   ]
  },
  {
   "cell_type": "markdown",
   "id": "658b175c",
   "metadata": {},
   "source": [
    "#### LightGBM:"
   ]
  },
  {
   "cell_type": "code",
   "execution_count": 82,
   "id": "545e2716",
   "metadata": {},
   "outputs": [
    {
     "name": "stdout",
     "output_type": "stream",
     "text": [
      "✅ Archivo cargado correctamente.\n",
      "[LightGBM] [Info] Number of positive: 43, number of negative: 437\n",
      "[LightGBM] [Info] Auto-choosing row-wise multi-threading, the overhead of testing was 0.000033 seconds.\n",
      "You can set `force_row_wise=true` to remove the overhead.\n",
      "And if memory is not enough, you can set `force_col_wise=true`.\n",
      "[LightGBM] [Info] Total Bins 109\n",
      "[LightGBM] [Info] Number of data points in the train set: 480, number of used features: 3\n",
      "[LightGBM] [Info] [binary:BoostFromScore]: pavg=0.089583 -> initscore=-2.318733\n",
      "[LightGBM] [Info] Start training from score -2.318733\n",
      "[LightGBM] [Warning] No further splits with positive gain, best gain: -inf\n",
      "[LightGBM] [Warning] No further splits with positive gain, best gain: -inf\n",
      "[LightGBM] [Warning] No further splits with positive gain, best gain: -inf\n",
      "[LightGBM] [Warning] No further splits with positive gain, best gain: -inf\n",
      "[LightGBM] [Warning] No further splits with positive gain, best gain: -inf\n",
      "[LightGBM] [Warning] No further splits with positive gain, best gain: -inf\n",
      "[LightGBM] [Warning] No further splits with positive gain, best gain: -inf\n",
      "[LightGBM] [Warning] No further splits with positive gain, best gain: -inf\n",
      "[LightGBM] [Warning] No further splits with positive gain, best gain: -inf\n",
      "[LightGBM] [Warning] No further splits with positive gain, best gain: -inf\n",
      "[LightGBM] [Warning] No further splits with positive gain, best gain: -inf\n",
      "[LightGBM] [Warning] No further splits with positive gain, best gain: -inf\n",
      "[LightGBM] [Warning] No further splits with positive gain, best gain: -inf\n",
      "[LightGBM] [Warning] No further splits with positive gain, best gain: -inf\n",
      "[LightGBM] [Warning] No further splits with positive gain, best gain: -inf\n",
      "[LightGBM] [Warning] No further splits with positive gain, best gain: -inf\n",
      "[LightGBM] [Warning] No further splits with positive gain, best gain: -inf\n",
      "[LightGBM] [Warning] No further splits with positive gain, best gain: -inf\n",
      "[LightGBM] [Warning] No further splits with positive gain, best gain: -inf\n",
      "[LightGBM] [Warning] No further splits with positive gain, best gain: -inf\n",
      "[LightGBM] [Warning] No further splits with positive gain, best gain: -inf\n",
      "[LightGBM] [Warning] No further splits with positive gain, best gain: -inf\n",
      "[LightGBM] [Warning] No further splits with positive gain, best gain: -inf\n",
      "[LightGBM] [Warning] No further splits with positive gain, best gain: -inf\n",
      "[LightGBM] [Warning] No further splits with positive gain, best gain: -inf\n",
      "[LightGBM] [Warning] No further splits with positive gain, best gain: -inf\n",
      "[LightGBM] [Warning] No further splits with positive gain, best gain: -inf\n",
      "[LightGBM] [Warning] No further splits with positive gain, best gain: -inf\n",
      "[LightGBM] [Warning] No further splits with positive gain, best gain: -inf\n",
      "[LightGBM] [Warning] No further splits with positive gain, best gain: -inf\n",
      "[LightGBM] [Warning] No further splits with positive gain, best gain: -inf\n",
      "[LightGBM] [Warning] No further splits with positive gain, best gain: -inf\n",
      "[LightGBM] [Warning] No further splits with positive gain, best gain: -inf\n",
      "[LightGBM] [Warning] No further splits with positive gain, best gain: -inf\n",
      "[LightGBM] [Warning] No further splits with positive gain, best gain: -inf\n",
      "[LightGBM] [Warning] No further splits with positive gain, best gain: -inf\n",
      "[LightGBM] [Warning] No further splits with positive gain, best gain: -inf\n",
      "[LightGBM] [Warning] No further splits with positive gain, best gain: -inf\n",
      "[LightGBM] [Warning] No further splits with positive gain, best gain: -inf\n",
      "[LightGBM] [Warning] No further splits with positive gain, best gain: -inf\n",
      "[LightGBM] [Warning] No further splits with positive gain, best gain: -inf\n",
      "[LightGBM] [Warning] No further splits with positive gain, best gain: -inf\n",
      "[LightGBM] [Warning] No further splits with positive gain, best gain: -inf\n",
      "[LightGBM] [Warning] No further splits with positive gain, best gain: -inf\n",
      "[LightGBM] [Warning] No further splits with positive gain, best gain: -inf\n",
      "[LightGBM] [Warning] No further splits with positive gain, best gain: -inf\n",
      "[LightGBM] [Warning] No further splits with positive gain, best gain: -inf\n",
      "[LightGBM] [Warning] No further splits with positive gain, best gain: -inf\n",
      "[LightGBM] [Warning] No further splits with positive gain, best gain: -inf\n",
      "[LightGBM] [Warning] No further splits with positive gain, best gain: -inf\n",
      "[LightGBM] [Warning] No further splits with positive gain, best gain: -inf\n",
      "[LightGBM] [Warning] No further splits with positive gain, best gain: -inf\n",
      "[LightGBM] [Warning] No further splits with positive gain, best gain: -inf\n",
      "[LightGBM] [Warning] No further splits with positive gain, best gain: -inf\n",
      "[LightGBM] [Warning] No further splits with positive gain, best gain: -inf\n",
      "[LightGBM] [Warning] No further splits with positive gain, best gain: -inf\n",
      "[LightGBM] [Warning] No further splits with positive gain, best gain: -inf\n",
      "[LightGBM] [Warning] No further splits with positive gain, best gain: -inf\n",
      "[LightGBM] [Warning] No further splits with positive gain, best gain: -inf\n",
      "[LightGBM] [Warning] No further splits with positive gain, best gain: -inf\n",
      "[LightGBM] [Warning] No further splits with positive gain, best gain: -inf\n",
      "[LightGBM] [Warning] No further splits with positive gain, best gain: -inf\n",
      "[LightGBM] [Warning] No further splits with positive gain, best gain: -inf\n",
      "[LightGBM] [Warning] No further splits with positive gain, best gain: -inf\n",
      "[LightGBM] [Warning] No further splits with positive gain, best gain: -inf\n",
      "[LightGBM] [Warning] No further splits with positive gain, best gain: -inf\n",
      "[LightGBM] [Warning] No further splits with positive gain, best gain: -inf\n",
      "[LightGBM] [Warning] No further splits with positive gain, best gain: -inf\n",
      "[LightGBM] [Warning] No further splits with positive gain, best gain: -inf\n",
      "[LightGBM] [Warning] No further splits with positive gain, best gain: -inf\n",
      "[LightGBM] [Warning] No further splits with positive gain, best gain: -inf\n",
      "[LightGBM] [Warning] No further splits with positive gain, best gain: -inf\n",
      "[LightGBM] [Warning] No further splits with positive gain, best gain: -inf\n",
      "[LightGBM] [Warning] No further splits with positive gain, best gain: -inf\n",
      "[LightGBM] [Warning] No further splits with positive gain, best gain: -inf\n",
      "[LightGBM] [Warning] No further splits with positive gain, best gain: -inf\n",
      "[LightGBM] [Warning] No further splits with positive gain, best gain: -inf\n",
      "[LightGBM] [Warning] No further splits with positive gain, best gain: -inf\n",
      "[LightGBM] [Warning] No further splits with positive gain, best gain: -inf\n",
      "[LightGBM] [Warning] No further splits with positive gain, best gain: -inf\n",
      "[LightGBM] [Warning] No further splits with positive gain, best gain: -inf\n",
      "[LightGBM] [Warning] No further splits with positive gain, best gain: -inf\n",
      "[LightGBM] [Warning] No further splits with positive gain, best gain: -inf\n",
      "[LightGBM] [Warning] No further splits with positive gain, best gain: -inf\n",
      "[LightGBM] [Warning] No further splits with positive gain, best gain: -inf\n",
      "[LightGBM] [Warning] No further splits with positive gain, best gain: -inf\n",
      "[LightGBM] [Warning] No further splits with positive gain, best gain: -inf\n",
      "[LightGBM] [Warning] No further splits with positive gain, best gain: -inf\n",
      "[LightGBM] [Warning] No further splits with positive gain, best gain: -inf\n",
      "[LightGBM] [Warning] No further splits with positive gain, best gain: -inf\n",
      "[LightGBM] [Warning] No further splits with positive gain, best gain: -inf\n",
      "[LightGBM] [Warning] No further splits with positive gain, best gain: -inf\n",
      "[LightGBM] [Warning] No further splits with positive gain, best gain: -inf\n",
      "[LightGBM] [Warning] No further splits with positive gain, best gain: -inf\n",
      "[LightGBM] [Warning] No further splits with positive gain, best gain: -inf\n",
      "[LightGBM] [Warning] No further splits with positive gain, best gain: -inf\n",
      "[LightGBM] [Warning] No further splits with positive gain, best gain: -inf\n",
      "[LightGBM] [Warning] No further splits with positive gain, best gain: -inf\n",
      "[LightGBM] [Warning] No further splits with positive gain, best gain: -inf\n",
      "[LightGBM] [Warning] No further splits with positive gain, best gain: -inf\n",
      "[LightGBM] [Info] Number of positive: 84, number of negative: 876\n",
      "[LightGBM] [Info] Auto-choosing col-wise multi-threading, the overhead of testing was 0.000059 seconds.\n",
      "You can set `force_col_wise=true` to remove the overhead.\n",
      "[LightGBM] [Info] Total Bins 111\n",
      "[LightGBM] [Info] Number of data points in the train set: 960, number of used features: 3\n",
      "[LightGBM] [Info] [binary:BoostFromScore]: pavg=0.087500 -> initscore=-2.344549\n",
      "[LightGBM] [Info] Start training from score -2.344549\n",
      "[LightGBM] [Info] Number of positive: 140, number of negative: 1300\n",
      "[LightGBM] [Info] Auto-choosing col-wise multi-threading, the overhead of testing was 0.000042 seconds.\n",
      "You can set `force_col_wise=true` to remove the overhead.\n",
      "[LightGBM] [Info] Total Bins 112\n",
      "[LightGBM] [Info] Number of data points in the train set: 1440, number of used features: 3\n",
      "[LightGBM] [Info] [binary:BoostFromScore]: pavg=0.097222 -> initscore=-2.228477\n",
      "[LightGBM] [Info] Start training from score -2.228477\n",
      "\n",
      "✅ Predicciones semanales guardadas en 'data\\modelo_lgb_binario_tombola.csv'\n"
     ]
    }
   ],
   "source": [
    "!python Scripts/modelo_lgb_binario_tombola.py"
   ]
  },
  {
   "cell_type": "markdown",
   "id": "0917336c",
   "metadata": {},
   "source": [
    "### 2. Modelos de Series Temporales (Prophet / ARIMA)\n",
    "\n",
    "**Descripción**: Tratar cada número (del 00 al 99) como una serie temporal binaria (1 si apareció, 0 si no) y modelar su aparición en el tiempo."
   ]
  },
  {
   "cell_type": "markdown",
   "id": "45e31847",
   "metadata": {},
   "source": [
    "#### Prophet:"
   ]
  },
  {
   "cell_type": "code",
   "execution_count": 83,
   "id": "1cb0643c",
   "metadata": {},
   "outputs": [
    {
     "name": "stdout",
     "output_type": "stream",
     "text": [
      "✅ Archivo cargado correctamente.\n",
      "\n",
      "✅ Resultados semanales guardados en 'data\\modelo_prophet_tombola.csv'\n"
     ]
    },
    {
     "name": "stderr",
     "output_type": "stream",
     "text": [
      "Importing plotly failed. Interactive plots will not work.\n",
      "17:27:44 - cmdstanpy - INFO - Chain [1] start processing\n",
      "17:27:45 - cmdstanpy - INFO - Chain [1] done processing\n",
      "17:27:45 - cmdstanpy - INFO - Chain [1] start processing\n",
      "17:27:45 - cmdstanpy - INFO - Chain [1] done processing\n",
      "17:27:45 - cmdstanpy - INFO - Chain [1] start processing\n",
      "17:27:46 - cmdstanpy - INFO - Chain [1] done processing\n",
      "17:27:46 - cmdstanpy - INFO - Chain [1] start processing\n",
      "17:27:46 - cmdstanpy - INFO - Chain [1] done processing\n",
      "17:27:46 - cmdstanpy - INFO - Chain [1] start processing\n",
      "17:27:47 - cmdstanpy - INFO - Chain [1] done processing\n",
      "17:27:47 - cmdstanpy - INFO - Chain [1] start processing\n",
      "17:27:47 - cmdstanpy - INFO - Chain [1] done processing\n",
      "17:27:47 - cmdstanpy - INFO - Chain [1] start processing\n",
      "17:27:47 - cmdstanpy - INFO - Chain [1] done processing\n",
      "17:27:47 - cmdstanpy - INFO - Chain [1] start processing\n",
      "17:27:48 - cmdstanpy - INFO - Chain [1] done processing\n",
      "17:27:48 - cmdstanpy - INFO - Chain [1] start processing\n",
      "17:27:48 - cmdstanpy - INFO - Chain [1] done processing\n",
      "17:27:48 - cmdstanpy - INFO - Chain [1] start processing\n",
      "17:27:48 - cmdstanpy - INFO - Chain [1] done processing\n",
      "17:27:48 - cmdstanpy - INFO - Chain [1] start processing\n",
      "17:27:49 - cmdstanpy - INFO - Chain [1] done processing\n",
      "17:27:49 - cmdstanpy - INFO - Chain [1] start processing\n",
      "17:27:49 - cmdstanpy - INFO - Chain [1] done processing\n",
      "17:27:49 - cmdstanpy - INFO - Chain [1] start processing\n",
      "17:27:49 - cmdstanpy - INFO - Chain [1] done processing\n",
      "17:27:50 - cmdstanpy - INFO - Chain [1] start processing\n",
      "17:27:50 - cmdstanpy - INFO - Chain [1] done processing\n",
      "17:27:50 - cmdstanpy - INFO - Chain [1] start processing\n",
      "17:27:50 - cmdstanpy - INFO - Chain [1] done processing\n",
      "17:27:50 - cmdstanpy - INFO - Chain [1] start processing\n",
      "17:27:51 - cmdstanpy - INFO - Chain [1] done processing\n",
      "17:27:51 - cmdstanpy - INFO - Chain [1] start processing\n",
      "17:27:51 - cmdstanpy - INFO - Chain [1] done processing\n",
      "17:27:51 - cmdstanpy - INFO - Chain [1] start processing\n",
      "17:27:51 - cmdstanpy - INFO - Chain [1] done processing\n",
      "17:27:51 - cmdstanpy - INFO - Chain [1] start processing\n",
      "17:27:52 - cmdstanpy - INFO - Chain [1] done processing\n",
      "17:27:52 - cmdstanpy - INFO - Chain [1] start processing\n",
      "17:27:52 - cmdstanpy - INFO - Chain [1] done processing\n",
      "17:27:52 - cmdstanpy - INFO - Chain [1] start processing\n",
      "17:27:52 - cmdstanpy - INFO - Chain [1] done processing\n",
      "17:27:52 - cmdstanpy - INFO - Chain [1] start processing\n",
      "17:27:53 - cmdstanpy - INFO - Chain [1] done processing\n",
      "17:27:53 - cmdstanpy - INFO - Chain [1] start processing\n",
      "17:27:53 - cmdstanpy - INFO - Chain [1] done processing\n",
      "17:27:53 - cmdstanpy - INFO - Chain [1] start processing\n",
      "17:27:53 - cmdstanpy - INFO - Chain [1] done processing\n",
      "17:27:54 - cmdstanpy - INFO - Chain [1] start processing\n",
      "17:27:54 - cmdstanpy - INFO - Chain [1] done processing\n",
      "17:27:54 - cmdstanpy - INFO - Chain [1] start processing\n",
      "17:27:54 - cmdstanpy - INFO - Chain [1] done processing\n",
      "17:27:54 - cmdstanpy - INFO - Chain [1] start processing\n",
      "17:27:55 - cmdstanpy - INFO - Chain [1] done processing\n",
      "17:27:55 - cmdstanpy - INFO - Chain [1] start processing\n",
      "17:27:55 - cmdstanpy - INFO - Chain [1] done processing\n",
      "17:27:55 - cmdstanpy - INFO - Chain [1] start processing\n",
      "17:27:55 - cmdstanpy - INFO - Chain [1] done processing\n",
      "17:27:55 - cmdstanpy - INFO - Chain [1] start processing\n",
      "17:27:56 - cmdstanpy - INFO - Chain [1] done processing\n",
      "17:27:56 - cmdstanpy - INFO - Chain [1] start processing\n",
      "17:27:56 - cmdstanpy - INFO - Chain [1] done processing\n",
      "17:27:56 - cmdstanpy - INFO - Chain [1] start processing\n",
      "17:27:56 - cmdstanpy - INFO - Chain [1] done processing\n",
      "17:27:56 - cmdstanpy - INFO - Chain [1] start processing\n",
      "17:27:57 - cmdstanpy - INFO - Chain [1] done processing\n",
      "17:27:57 - cmdstanpy - INFO - Chain [1] start processing\n",
      "17:27:57 - cmdstanpy - INFO - Chain [1] done processing\n",
      "17:27:57 - cmdstanpy - INFO - Chain [1] start processing\n",
      "17:27:57 - cmdstanpy - INFO - Chain [1] done processing\n",
      "17:27:57 - cmdstanpy - INFO - Chain [1] start processing\n",
      "17:27:58 - cmdstanpy - INFO - Chain [1] done processing\n",
      "17:27:58 - cmdstanpy - INFO - Chain [1] start processing\n",
      "17:27:58 - cmdstanpy - INFO - Chain [1] done processing\n",
      "17:27:58 - cmdstanpy - INFO - Chain [1] start processing\n",
      "17:27:58 - cmdstanpy - INFO - Chain [1] done processing\n",
      "17:27:59 - cmdstanpy - INFO - Chain [1] start processing\n",
      "17:27:59 - cmdstanpy - INFO - Chain [1] done processing\n",
      "17:27:59 - cmdstanpy - INFO - Chain [1] start processing\n",
      "17:27:59 - cmdstanpy - INFO - Chain [1] done processing\n",
      "17:27:59 - cmdstanpy - INFO - Chain [1] start processing\n",
      "17:28:00 - cmdstanpy - INFO - Chain [1] done processing\n",
      "17:28:00 - cmdstanpy - INFO - Chain [1] start processing\n",
      "17:28:00 - cmdstanpy - INFO - Chain [1] done processing\n",
      "17:28:00 - cmdstanpy - INFO - Chain [1] start processing\n",
      "17:28:00 - cmdstanpy - INFO - Chain [1] done processing\n",
      "17:28:00 - cmdstanpy - INFO - Chain [1] start processing\n",
      "17:28:01 - cmdstanpy - INFO - Chain [1] done processing\n",
      "17:28:01 - cmdstanpy - INFO - Chain [1] start processing\n",
      "17:28:01 - cmdstanpy - INFO - Chain [1] done processing\n",
      "17:28:01 - cmdstanpy - INFO - Chain [1] start processing\n",
      "17:28:01 - cmdstanpy - INFO - Chain [1] done processing\n"
     ]
    }
   ],
   "source": [
    "!python Scripts/modelo_prophet_tombola.py"
   ]
  },
  {
   "cell_type": "markdown",
   "id": "31a48703",
   "metadata": {},
   "source": [
    "#### ARIMA:"
   ]
  },
  {
   "cell_type": "code",
   "execution_count": 84,
   "id": "e37fdf99",
   "metadata": {},
   "outputs": [
    {
     "name": "stdout",
     "output_type": "stream",
     "text": [
      "✅ Archivo cargado correctamente.\n",
      "\n",
      "✅ Resultados guardados en: data\\modelo_arima_binario_tombola.csv\n"
     ]
    }
   ],
   "source": [
    "!python Scripts/modelo_arima_binario_tombola.py"
   ]
  },
  {
   "cell_type": "markdown",
   "id": "8acbe51d",
   "metadata": {},
   "source": [
    "Este script devuelve, semana a semana, los 10 números más probables de salir en la siguiente semana según ARIMA, o una fila vacía si no se pudo entrenar."
   ]
  },
  {
   "cell_type": "markdown",
   "id": "1e31c29e",
   "metadata": {},
   "source": [
    "### 🔹 Nivel 3 - Modelos Avanzados\n",
    "\n",
    "#### 1. LSTM / Transformers\n",
    "\n",
    "**Descripción**: Modelar la secuencia completa de sorteos como una serie de secuencias (por día) y predecir la siguiente secuencia."
   ]
  },
  {
   "cell_type": "code",
   "execution_count": 1,
   "id": "9d82cab7",
   "metadata": {},
   "outputs": [
    {
     "name": "stderr",
     "output_type": "stream",
     "text": [
      "2025-08-07 19:08:05.645252: I tensorflow/core/util/port.cc:153] oneDNN custom operations are on. You may see slightly different numerical results due to floating-point round-off errors from different computation orders. To turn them off, set the environment variable `TF_ENABLE_ONEDNN_OPTS=0`.\n",
      "c:\\Users\\londe\\OneDrive\\Programacion\\6 - Otros\\Prediccion-Bingo-Municipal\\venv\\Lib\\site-packages\\google\\protobuf\\runtime_version.py:98: UserWarning: Protobuf gencode version 5.28.3 is exactly one major version older than the runtime version 6.31.1 at tensorflow/core/framework/attr_value.proto. Please update the gencode to avoid compatibility violations in the next runtime release.\n",
      "  warnings.warn(\n",
      "c:\\Users\\londe\\OneDrive\\Programacion\\6 - Otros\\Prediccion-Bingo-Municipal\\venv\\Lib\\site-packages\\google\\protobuf\\runtime_version.py:98: UserWarning: Protobuf gencode version 5.28.3 is exactly one major version older than the runtime version 6.31.1 at tensorflow/core/framework/tensor.proto. Please update the gencode to avoid compatibility violations in the next runtime release.\n",
      "  warnings.warn(\n",
      "c:\\Users\\londe\\OneDrive\\Programacion\\6 - Otros\\Prediccion-Bingo-Municipal\\venv\\Lib\\site-packages\\google\\protobuf\\runtime_version.py:98: UserWarning: Protobuf gencode version 5.28.3 is exactly one major version older than the runtime version 6.31.1 at tensorflow/core/framework/resource_handle.proto. Please update the gencode to avoid compatibility violations in the next runtime release.\n",
      "  warnings.warn(\n",
      "c:\\Users\\londe\\OneDrive\\Programacion\\6 - Otros\\Prediccion-Bingo-Municipal\\venv\\Lib\\site-packages\\google\\protobuf\\runtime_version.py:98: UserWarning: Protobuf gencode version 5.28.3 is exactly one major version older than the runtime version 6.31.1 at tensorflow/core/framework/tensor_shape.proto. Please update the gencode to avoid compatibility violations in the next runtime release.\n",
      "  warnings.warn(\n",
      "c:\\Users\\londe\\OneDrive\\Programacion\\6 - Otros\\Prediccion-Bingo-Municipal\\venv\\Lib\\site-packages\\google\\protobuf\\runtime_version.py:98: UserWarning: Protobuf gencode version 5.28.3 is exactly one major version older than the runtime version 6.31.1 at tensorflow/core/framework/types.proto. Please update the gencode to avoid compatibility violations in the next runtime release.\n",
      "  warnings.warn(\n",
      "c:\\Users\\londe\\OneDrive\\Programacion\\6 - Otros\\Prediccion-Bingo-Municipal\\venv\\Lib\\site-packages\\google\\protobuf\\runtime_version.py:98: UserWarning: Protobuf gencode version 5.28.3 is exactly one major version older than the runtime version 6.31.1 at tensorflow/core/framework/full_type.proto. Please update the gencode to avoid compatibility violations in the next runtime release.\n",
      "  warnings.warn(\n",
      "c:\\Users\\londe\\OneDrive\\Programacion\\6 - Otros\\Prediccion-Bingo-Municipal\\venv\\Lib\\site-packages\\google\\protobuf\\runtime_version.py:98: UserWarning: Protobuf gencode version 5.28.3 is exactly one major version older than the runtime version 6.31.1 at tensorflow/core/framework/function.proto. Please update the gencode to avoid compatibility violations in the next runtime release.\n",
      "  warnings.warn(\n",
      "c:\\Users\\londe\\OneDrive\\Programacion\\6 - Otros\\Prediccion-Bingo-Municipal\\venv\\Lib\\site-packages\\google\\protobuf\\runtime_version.py:98: UserWarning: Protobuf gencode version 5.28.3 is exactly one major version older than the runtime version 6.31.1 at tensorflow/core/framework/node_def.proto. Please update the gencode to avoid compatibility violations in the next runtime release.\n",
      "  warnings.warn(\n",
      "c:\\Users\\londe\\OneDrive\\Programacion\\6 - Otros\\Prediccion-Bingo-Municipal\\venv\\Lib\\site-packages\\google\\protobuf\\runtime_version.py:98: UserWarning: Protobuf gencode version 5.28.3 is exactly one major version older than the runtime version 6.31.1 at tensorflow/core/framework/op_def.proto. Please update the gencode to avoid compatibility violations in the next runtime release.\n",
      "  warnings.warn(\n",
      "c:\\Users\\londe\\OneDrive\\Programacion\\6 - Otros\\Prediccion-Bingo-Municipal\\venv\\Lib\\site-packages\\google\\protobuf\\runtime_version.py:98: UserWarning: Protobuf gencode version 5.28.3 is exactly one major version older than the runtime version 6.31.1 at tensorflow/core/framework/graph.proto. Please update the gencode to avoid compatibility violations in the next runtime release.\n",
      "  warnings.warn(\n",
      "c:\\Users\\londe\\OneDrive\\Programacion\\6 - Otros\\Prediccion-Bingo-Municipal\\venv\\Lib\\site-packages\\google\\protobuf\\runtime_version.py:98: UserWarning: Protobuf gencode version 5.28.3 is exactly one major version older than the runtime version 6.31.1 at tensorflow/core/framework/graph_debug_info.proto. Please update the gencode to avoid compatibility violations in the next runtime release.\n",
      "  warnings.warn(\n",
      "c:\\Users\\londe\\OneDrive\\Programacion\\6 - Otros\\Prediccion-Bingo-Municipal\\venv\\Lib\\site-packages\\google\\protobuf\\runtime_version.py:98: UserWarning: Protobuf gencode version 5.28.3 is exactly one major version older than the runtime version 6.31.1 at tensorflow/core/framework/versions.proto. Please update the gencode to avoid compatibility violations in the next runtime release.\n",
      "  warnings.warn(\n",
      "c:\\Users\\londe\\OneDrive\\Programacion\\6 - Otros\\Prediccion-Bingo-Municipal\\venv\\Lib\\site-packages\\google\\protobuf\\runtime_version.py:98: UserWarning: Protobuf gencode version 5.28.3 is exactly one major version older than the runtime version 6.31.1 at tensorflow/core/protobuf/config.proto. Please update the gencode to avoid compatibility violations in the next runtime release.\n",
      "  warnings.warn(\n",
      "c:\\Users\\londe\\OneDrive\\Programacion\\6 - Otros\\Prediccion-Bingo-Municipal\\venv\\Lib\\site-packages\\google\\protobuf\\runtime_version.py:98: UserWarning: Protobuf gencode version 5.28.3 is exactly one major version older than the runtime version 6.31.1 at xla/tsl/protobuf/coordination_config.proto. Please update the gencode to avoid compatibility violations in the next runtime release.\n",
      "  warnings.warn(\n",
      "c:\\Users\\londe\\OneDrive\\Programacion\\6 - Otros\\Prediccion-Bingo-Municipal\\venv\\Lib\\site-packages\\google\\protobuf\\runtime_version.py:98: UserWarning: Protobuf gencode version 5.28.3 is exactly one major version older than the runtime version 6.31.1 at tensorflow/core/framework/cost_graph.proto. Please update the gencode to avoid compatibility violations in the next runtime release.\n",
      "  warnings.warn(\n",
      "c:\\Users\\londe\\OneDrive\\Programacion\\6 - Otros\\Prediccion-Bingo-Municipal\\venv\\Lib\\site-packages\\google\\protobuf\\runtime_version.py:98: UserWarning: Protobuf gencode version 5.28.3 is exactly one major version older than the runtime version 6.31.1 at tensorflow/core/framework/step_stats.proto. Please update the gencode to avoid compatibility violations in the next runtime release.\n",
      "  warnings.warn(\n",
      "c:\\Users\\londe\\OneDrive\\Programacion\\6 - Otros\\Prediccion-Bingo-Municipal\\venv\\Lib\\site-packages\\google\\protobuf\\runtime_version.py:98: UserWarning: Protobuf gencode version 5.28.3 is exactly one major version older than the runtime version 6.31.1 at tensorflow/core/framework/allocation_description.proto. Please update the gencode to avoid compatibility violations in the next runtime release.\n",
      "  warnings.warn(\n",
      "c:\\Users\\londe\\OneDrive\\Programacion\\6 - Otros\\Prediccion-Bingo-Municipal\\venv\\Lib\\site-packages\\google\\protobuf\\runtime_version.py:98: UserWarning: Protobuf gencode version 5.28.3 is exactly one major version older than the runtime version 6.31.1 at tensorflow/core/framework/tensor_description.proto. Please update the gencode to avoid compatibility violations in the next runtime release.\n",
      "  warnings.warn(\n",
      "c:\\Users\\londe\\OneDrive\\Programacion\\6 - Otros\\Prediccion-Bingo-Municipal\\venv\\Lib\\site-packages\\google\\protobuf\\runtime_version.py:98: UserWarning: Protobuf gencode version 5.28.3 is exactly one major version older than the runtime version 6.31.1 at tensorflow/core/protobuf/cluster.proto. Please update the gencode to avoid compatibility violations in the next runtime release.\n",
      "  warnings.warn(\n",
      "c:\\Users\\londe\\OneDrive\\Programacion\\6 - Otros\\Prediccion-Bingo-Municipal\\venv\\Lib\\site-packages\\google\\protobuf\\runtime_version.py:98: UserWarning: Protobuf gencode version 5.28.3 is exactly one major version older than the runtime version 6.31.1 at tensorflow/core/protobuf/debug.proto. Please update the gencode to avoid compatibility violations in the next runtime release.\n",
      "  warnings.warn(\n",
      "2025-08-07 19:09:06.932486: I tensorflow/core/util/port.cc:153] oneDNN custom operations are on. You may see slightly different numerical results due to floating-point round-off errors from different computation orders. To turn them off, set the environment variable `TF_ENABLE_ONEDNN_OPTS=0`.\n",
      "2025-08-07 19:10:09.213565: I tensorflow/core/platform/cpu_feature_guard.cc:210] This TensorFlow binary is optimized to use available CPU instructions in performance-critical operations.\n",
      "To enable the following instructions: SSE3 SSE4.1 SSE4.2 AVX AVX2 FMA, in other operations, rebuild TensorFlow with the appropriate compiler flags.\n",
      "WARNING:absl:You are saving your model as an HDF5 file via `model.save()` or `keras.saving.save_model(model)`. This file format is considered legacy. We recommend using instead the native Keras format, e.g. `model.save('my_model.keras')` or `keras.saving.save_model(model, 'my_model.keras')`. \n",
      "Traceback (most recent call last):\n",
      "  File \u001b[35m\"c:\\Users\\londe\\OneDrive\\Programacion\\6 - Otros\\Prediccion-Bingo-Municipal\\Scripts\\modelo_lstm_tombola.py\"\u001b[0m, line \u001b[35m75\u001b[0m, in \u001b[35m<module>\u001b[0m\n",
      "    ultimo_numero = \u001b[31mdf_filtrado['Numero'].iloc[-1]\u001b[0m\u001b[1;31m[-1]\u001b[0m  # Último número de la última secuencia\n",
      "                    \u001b[31m~~~~~~~~~~~~~~~~~~~~~~~~~~~~~~\u001b[0m\u001b[1;31m^^^^\u001b[0m\n",
      "\u001b[1;35mIndexError\u001b[0m: \u001b[35minvalid index to scalar variable.\u001b[0m\n"
     ]
    }
   ],
   "source": [
    "!python Scripts/modelo_lstm_tombola.py"
   ]
  },
  {
   "cell_type": "markdown",
   "id": "f4a5baed",
   "metadata": {},
   "source": [
    "#### 2. Cadenas de Markov\n",
    "\n",
    "**Descripción**: Modelar la probabilidad de aparición de un número en función de apariciones anteriores."
   ]
  },
  {
   "cell_type": "code",
   "execution_count": 86,
   "id": "8b59b62b",
   "metadata": {},
   "outputs": [
    {
     "name": "stdout",
     "output_type": "stream",
     "text": [
      "🔗 Predicción con Cadenas de Markov (desde el último número sorteado):\n",
      "[35, 81, 28, 37, 40, 17, 6, 29, 14, 76]\n"
     ]
    }
   ],
   "source": [
    "!python Scripts/modelo_markov_tombola.py"
   ]
  },
  {
   "cell_type": "markdown",
   "id": "fd930369",
   "metadata": {},
   "source": [
    "#### 3. Regresión de Conteo (Poisson / Binomial Negativa)\n",
    "\n",
    "**Descripción**: Modelar el conteo de aparición de cada número como una variable dependiente."
   ]
  },
  {
   "cell_type": "markdown",
   "id": "ae84b552",
   "metadata": {},
   "source": [
    "#### Poisson"
   ]
  },
  {
   "cell_type": "code",
   "execution_count": 87,
   "id": "9ca475a2",
   "metadata": {},
   "outputs": [
    {
     "name": "stdout",
     "output_type": "stream",
     "text": [
      "📈 Predicción de aparición por Regresión de Poisson:\n",
      "[0, 1, 2, 3, 4, 5, 6, 7, 8, 9]\n"
     ]
    }
   ],
   "source": [
    "!python Scripts/modelo_poisson_conteo_tombola.py"
   ]
  },
  {
   "cell_type": "markdown",
   "id": "694dcc43",
   "metadata": {},
   "source": [
    "### Binomial Negativa"
   ]
  },
  {
   "cell_type": "code",
   "execution_count": 88,
   "id": "2f97947a",
   "metadata": {},
   "outputs": [
    {
     "name": "stdout",
     "output_type": "stream",
     "text": [
      "📈 Predicción de aparición por Regresión Binomial Negativa:\n",
      "[0, 1, 2, 3, 4, 5, 6, 7, 8, 9]\n"
     ]
    },
    {
     "name": "stderr",
     "output_type": "stream",
     "text": [
      "c:\\Users\\londe\\OneDrive\\Programacion\\6 - Otros\\Prediccion-Bingo-Municipal\\venv\\Lib\\site-packages\\statsmodels\\genmod\\families\\family.py:1367: ValueWarning: Negative binomial dispersion parameter alpha not set. Using default value alpha=1.0.\n",
      "  warnings.warn(\"Negative binomial dispersion parameter alpha not \"\n"
     ]
    }
   ],
   "source": [
    "!python Scripts/modelo_binomial_negativa_conteo_tombola.py"
   ]
  },
  {
   "cell_type": "markdown",
   "id": "4cc5390d",
   "metadata": {},
   "source": [
    "#### 4. Clustering (K-Means / DBSCAN)\n",
    "\n",
    "**Descripción**: Agrupar combinaciones de números que suelen salir juntas."
   ]
  },
  {
   "cell_type": "markdown",
   "id": "47b57f5d",
   "metadata": {},
   "source": [
    "### K-Means"
   ]
  },
  {
   "cell_type": "code",
   "execution_count": 89,
   "id": "6a17ed0b",
   "metadata": {},
   "outputs": [
    {
     "name": "stdout",
     "output_type": "stream",
     "text": [
      "🧠 Predicción por agrupamiento K-Means (basado en frecuencia por día):\n",
      "[28, 81, 76, 25, 40, 22, 29, 14, 8, 91]\n"
     ]
    }
   ],
   "source": [
    "!python Scripts/modelo_kmeans_tombola.py"
   ]
  },
  {
   "cell_type": "markdown",
   "id": "67883e7f",
   "metadata": {},
   "source": [
    "### DBSCAN"
   ]
  },
  {
   "cell_type": "code",
   "execution_count": 90,
   "id": "ff344260",
   "metadata": {},
   "outputs": [
    {
     "name": "stdout",
     "output_type": "stream",
     "text": [
      "🔍 Predicción por agrupamiento DBSCAN (detectando densidad):\n",
      "[14, 91, 7, 11, 41, 60, 64, 66, 87]\n"
     ]
    }
   ],
   "source": [
    "!python Scripts/modelo_dbscan_tombola.py"
   ]
  }
 ],
 "metadata": {
  "kernelspec": {
   "display_name": "venv",
   "language": "python",
   "name": "python3"
  },
  "language_info": {
   "codemirror_mode": {
    "name": "ipython",
    "version": 3
   },
   "file_extension": ".py",
   "mimetype": "text/x-python",
   "name": "python",
   "nbconvert_exporter": "python",
   "pygments_lexer": "ipython3",
   "version": "3.13.5"
  }
 },
 "nbformat": 4,
 "nbformat_minor": 5
}
